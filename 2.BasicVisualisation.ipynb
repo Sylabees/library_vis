{
 "cells": [
  {
   "cell_type": "code",
   "execution_count": 46,
   "metadata": {},
   "outputs": [],
   "source": [
    "import pandas as pd\n",
    "import numpy as np"
   ]
  },
  {
   "cell_type": "code",
   "execution_count": 57,
   "metadata": {},
   "outputs": [],
   "source": [
    "pd.set_option('display.max_rows', 500)\n",
    "pd.set_option('display.max_columns', 500)\n",
    "pd.set_option('display.width', 1000)"
   ]
  },
  {
   "cell_type": "code",
   "execution_count": 27,
   "metadata": {},
   "outputs": [],
   "source": [
    "data = pd.read_csv('data/cleaned_bookshelf_09042025.csv')"
   ]
  },
  {
   "cell_type": "code",
   "execution_count": 41,
   "metadata": {},
   "outputs": [
    {
     "data": {
      "text/plain": [
       "0                             0\n",
       "1                             0\n",
       "2                             0\n",
       "3                             0\n",
       "4                             0\n",
       "                 ...           \n",
       "493                         NaN\n",
       "494             Beyond the Play\n",
       "495    The Kingkiller Chronicle\n",
       "496                   Powerless\n",
       "497                         NaN\n",
       "Name: Series, Length: 498, dtype: object"
      ]
     },
     "execution_count": 41,
     "metadata": {},
     "output_type": "execute_result"
    }
   ],
   "source": [
    "data['Series']"
   ]
  },
  {
   "cell_type": "code",
   "execution_count": 38,
   "metadata": {},
   "outputs": [
    {
     "data": {
      "text/plain": [
       "Index(['Name', 'Author', 'Pub Year', 'ISBN-13', 'Publisher',\n",
       "       'Imprint Publisher', 'BookType', 'Primary Genre', 'Genres',\n",
       "       'Ficiton/non-fiction', 'Series', 'Volume', 'Unit Price', 'Page number',\n",
       "       'Language', 'Read by Stinky', 'Read by Matt', 'QTY', 'To/From',\n",
       "       'surname', 'Primary Genre numerical'],\n",
       "      dtype='object')"
      ]
     },
     "execution_count": 38,
     "metadata": {},
     "output_type": "execute_result"
    }
   ],
   "source": [
    "data.columns"
   ]
  },
  {
   "cell_type": "code",
   "execution_count": 28,
   "metadata": {},
   "outputs": [
    {
     "data": {
      "text/plain": [
       "345"
      ]
     },
     "execution_count": 28,
     "metadata": {},
     "output_type": "execute_result"
    }
   ],
   "source": [
    "data.Author.nunique()"
   ]
  },
  {
   "cell_type": "code",
   "execution_count": 31,
   "metadata": {},
   "outputs": [
    {
     "data": {
      "text/plain": [
       "Index(['George R R Martin', 'George Orwell', 'Jessica George'], dtype='object', name='Author')"
      ]
     },
     "execution_count": 31,
     "metadata": {},
     "output_type": "execute_result"
    }
   ],
   "source": [
    "data[data['Author'].str.lower().str.contains('george')].Author.value_counts().keys()"
   ]
  },
  {
   "cell_type": "code",
   "execution_count": 66,
   "metadata": {},
   "outputs": [],
   "source": [
    "selected_author = 'Sarah J Maas'"
   ]
  },
  {
   "cell_type": "code",
   "execution_count": 67,
   "metadata": {},
   "outputs": [
    {
     "data": {
      "text/html": [
       "<div>\n",
       "<style scoped>\n",
       "    .dataframe tbody tr th:only-of-type {\n",
       "        vertical-align: middle;\n",
       "    }\n",
       "\n",
       "    .dataframe tbody tr th {\n",
       "        vertical-align: top;\n",
       "    }\n",
       "\n",
       "    .dataframe thead th {\n",
       "        text-align: right;\n",
       "    }\n",
       "</style>\n",
       "<table border=\"1\" class=\"dataframe\">\n",
       "  <thead>\n",
       "    <tr style=\"text-align: right;\">\n",
       "      <th></th>\n",
       "      <th>Name</th>\n",
       "      <th>Author</th>\n",
       "      <th>Pub Year</th>\n",
       "      <th>ISBN-13</th>\n",
       "      <th>Publisher</th>\n",
       "      <th>Imprint Publisher</th>\n",
       "      <th>BookType</th>\n",
       "      <th>Primary Genre</th>\n",
       "      <th>Genres</th>\n",
       "      <th>Ficiton/non-fiction</th>\n",
       "      <th>Series</th>\n",
       "      <th>Volume</th>\n",
       "      <th>Unit Price</th>\n",
       "      <th>Page number</th>\n",
       "      <th>Language</th>\n",
       "      <th>Read by Stinky</th>\n",
       "      <th>Read by Matt</th>\n",
       "      <th>QTY</th>\n",
       "      <th>To/From</th>\n",
       "      <th>surname</th>\n",
       "      <th>Primary Genre numerical</th>\n",
       "    </tr>\n",
       "  </thead>\n",
       "  <tbody>\n",
       "    <tr>\n",
       "      <th>0</th>\n",
       "      <td>Against The Loveless World</td>\n",
       "      <td>Susan Abulhawa</td>\n",
       "      <td>2020.0</td>\n",
       "      <td>9.781527e+12</td>\n",
       "      <td>Bloomsbury</td>\n",
       "      <td>Bloomsbury Circus</td>\n",
       "      <td>Proof</td>\n",
       "      <td>Modern &amp; Contemporary Fiction</td>\n",
       "      <td>Political Fiction</td>\n",
       "      <td>Fiction</td>\n",
       "      <td>0</td>\n",
       "      <td>NaN</td>\n",
       "      <td>NaN</td>\n",
       "      <td>364.0</td>\n",
       "      <td>English</td>\n",
       "      <td>0</td>\n",
       "      <td>0</td>\n",
       "      <td>1</td>\n",
       "      <td>NaN</td>\n",
       "      <td>Abulhawa</td>\n",
       "      <td>0</td>\n",
       "    </tr>\n",
       "    <tr>\n",
       "      <th>1</th>\n",
       "      <td>Call me by your name</td>\n",
       "      <td>Andre Aciman</td>\n",
       "      <td>2017.0</td>\n",
       "      <td>9.781786e+12</td>\n",
       "      <td>Grove Atlantic</td>\n",
       "      <td>Atlantic Books</td>\n",
       "      <td>Paperback</td>\n",
       "      <td>Modern &amp; Contemporary Fiction</td>\n",
       "      <td>Romance, drama, coming-of-age</td>\n",
       "      <td>Fiction</td>\n",
       "      <td>0</td>\n",
       "      <td>NaN</td>\n",
       "      <td>8.99</td>\n",
       "      <td>248.0</td>\n",
       "      <td>English</td>\n",
       "      <td>1</td>\n",
       "      <td>0</td>\n",
       "      <td>1</td>\n",
       "      <td>NaN</td>\n",
       "      <td>Aciman</td>\n",
       "      <td>0</td>\n",
       "    </tr>\n",
       "    <tr>\n",
       "      <th>2</th>\n",
       "      <td>The Hitchhikers guide to the galaxy</td>\n",
       "      <td>Douglas Adams</td>\n",
       "      <td>1979.0</td>\n",
       "      <td>3.302586e+08</td>\n",
       "      <td>Pan</td>\n",
       "      <td>Pan</td>\n",
       "      <td>Paperback - A Format</td>\n",
       "      <td>Science Fiction</td>\n",
       "      <td>Young Adult, Science Fiction, Fantasy</td>\n",
       "      <td>Fiction</td>\n",
       "      <td>0</td>\n",
       "      <td>NaN</td>\n",
       "      <td>0.90</td>\n",
       "      <td>159.0</td>\n",
       "      <td>English</td>\n",
       "      <td>1</td>\n",
       "      <td>0</td>\n",
       "      <td>1</td>\n",
       "      <td>NaN</td>\n",
       "      <td>Adams</td>\n",
       "      <td>8</td>\n",
       "    </tr>\n",
       "    <tr>\n",
       "      <th>3</th>\n",
       "      <td>Half of a Yellow Sun</td>\n",
       "      <td>Chimamanda Ngozi Adichie</td>\n",
       "      <td>2017.0</td>\n",
       "      <td>9.780007e+12</td>\n",
       "      <td>Harper Collins</td>\n",
       "      <td>4Th Estate</td>\n",
       "      <td>Paperback</td>\n",
       "      <td>Historical Fiction</td>\n",
       "      <td>Novel, Historical Fiction, Political Fiction</td>\n",
       "      <td>Fiction</td>\n",
       "      <td>0</td>\n",
       "      <td>NaN</td>\n",
       "      <td>8.99</td>\n",
       "      <td>433.0</td>\n",
       "      <td>English</td>\n",
       "      <td>0</td>\n",
       "      <td>0</td>\n",
       "      <td>1</td>\n",
       "      <td>NaN</td>\n",
       "      <td>Adichie</td>\n",
       "      <td>11</td>\n",
       "    </tr>\n",
       "    <tr>\n",
       "      <th>4</th>\n",
       "      <td>Ghosts</td>\n",
       "      <td>Dolly Alderton</td>\n",
       "      <td>2020.0</td>\n",
       "      <td>9.780241e+12</td>\n",
       "      <td>Penguin Random House</td>\n",
       "      <td>Fig Tree</td>\n",
       "      <td>Hardback</td>\n",
       "      <td>Romance</td>\n",
       "      <td>Fantasy Romance, Modern &amp; Contempary</td>\n",
       "      <td>Fiction</td>\n",
       "      <td>0</td>\n",
       "      <td>NaN</td>\n",
       "      <td>14.99</td>\n",
       "      <td>338.0</td>\n",
       "      <td>English</td>\n",
       "      <td>1</td>\n",
       "      <td>0</td>\n",
       "      <td>1</td>\n",
       "      <td>NaN</td>\n",
       "      <td>Alderton</td>\n",
       "      <td>3</td>\n",
       "    </tr>\n",
       "  </tbody>\n",
       "</table>\n",
       "</div>"
      ],
      "text/plain": [
       "                                  Name                    Author  Pub Year       ISBN-13             Publisher  Imprint Publisher              BookType                  Primary Genre                                        Genres Ficiton/non-fiction Series Volume  Unit Price  Page number Language  Read by Stinky  Read by Matt  QTY To/From   surname  Primary Genre numerical\n",
       "0           Against The Loveless World            Susan Abulhawa    2020.0  9.781527e+12            Bloomsbury  Bloomsbury Circus                 Proof  Modern & Contemporary Fiction                             Political Fiction             Fiction      0    NaN         NaN        364.0  English               0             0    1     NaN  Abulhawa                        0\n",
       "1                 Call me by your name              Andre Aciman    2017.0  9.781786e+12        Grove Atlantic     Atlantic Books             Paperback  Modern & Contemporary Fiction                 Romance, drama, coming-of-age             Fiction      0    NaN        8.99        248.0  English               1             0    1     NaN    Aciman                        0\n",
       "2  The Hitchhikers guide to the galaxy             Douglas Adams    1979.0  3.302586e+08                   Pan                Pan  Paperback - A Format                Science Fiction         Young Adult, Science Fiction, Fantasy             Fiction      0    NaN        0.90        159.0  English               1             0    1     NaN     Adams                        8\n",
       "3                 Half of a Yellow Sun  Chimamanda Ngozi Adichie    2017.0  9.780007e+12        Harper Collins         4Th Estate             Paperback             Historical Fiction  Novel, Historical Fiction, Political Fiction             Fiction      0    NaN        8.99        433.0  English               0             0    1     NaN   Adichie                       11\n",
       "4                               Ghosts            Dolly Alderton    2020.0  9.780241e+12  Penguin Random House           Fig Tree              Hardback                        Romance          Fantasy Romance, Modern & Contempary             Fiction      0    NaN       14.99        338.0  English               1             0    1     NaN  Alderton                        3"
      ]
     },
     "execution_count": 67,
     "metadata": {},
     "output_type": "execute_result"
    }
   ],
   "source": [
    "data.head()"
   ]
  },
  {
   "cell_type": "code",
   "execution_count": 69,
   "metadata": {},
   "outputs": [],
   "source": [
    "author_data = data.query('Author == @selected_author')"
   ]
  },
  {
   "cell_type": "code",
   "execution_count": 72,
   "metadata": {},
   "outputs": [
    {
     "data": {
      "text/plain": [
       "array(['Kingdom Of Ash', 'Tower Of Dawn', 'Empire Of Storms',\n",
       "       'Queen Of Shadows', 'Heir Of Fire', 'Crown Of Midnight',\n",
       "       'Throne Of Glass', \"The Assassin'S Blade\",\n",
       "       'House Of Sky And Breath', 'A Court Of Thorns And Roses',\n",
       "       'A Court Of Mist And Fury', 'A Court Of Wings And Ruin',\n",
       "       'A Court Of Thorns And Roses -  Collectors Edition',\n",
       "       'The Assassins Blade', 'House Of Earth And Blood',\n",
       "       'A Court Of Silver Flames', 'A Court Of Frost And Starlight'],\n",
       "      dtype=object)"
      ]
     },
     "execution_count": 72,
     "metadata": {},
     "output_type": "execute_result"
    }
   ],
   "source": [
    "author_data.rename(columns = {'Name':'Books'}).Books.str.title().unique()"
   ]
  },
  {
   "cell_type": "code",
   "execution_count": 92,
   "metadata": {},
   "outputs": [],
   "source": [
    "aa = pd.Series(data['BookType'].unique())\n",
    "aa = aa.dropna()\n",
    "aa = pd.concat([aa,pd.Series([None])]).reset_index(drop=True)"
   ]
  },
  {
   "cell_type": "code",
   "execution_count": 93,
   "metadata": {},
   "outputs": [
    {
     "data": {
      "text/plain": [
       "0                    Proof\n",
       "1                Paperback\n",
       "2     Paperback - A Format\n",
       "3                 Hardback\n",
       "4          Trade Paperback\n",
       "5        Miniature Edition\n",
       "6       Butchered Hardback\n",
       "7                Flexiback\n",
       "8     Paperback With Flaps\n",
       "9                      Map\n",
       "10                    None\n",
       "dtype: object"
      ]
     },
     "execution_count": 93,
     "metadata": {},
     "output_type": "execute_result"
    }
   ],
   "source": [
    "aa"
   ]
  },
  {
   "cell_type": "code",
   "execution_count": 88,
   "metadata": {},
   "outputs": [
    {
     "data": {
      "text/plain": [
       "0                    Proof\n",
       "1                Paperback\n",
       "2     Paperback - A Format\n",
       "3                 Hardback\n",
       "4          Trade Paperback\n",
       "5        Miniature Edition\n",
       "6       Butchered Hardback\n",
       "8                Flexiback\n",
       "9     Paperback With Flaps\n",
       "10                     Map\n",
       "0                     None\n",
       "dtype: object"
      ]
     },
     "execution_count": 88,
     "metadata": {},
     "output_type": "execute_result"
    }
   ],
   "source": []
  },
  {
   "cell_type": "code",
   "execution_count": 80,
   "metadata": {},
   "outputs": [
    {
     "data": {
      "text/plain": [
       "array(['Proof', 'Paperback', 'Paperback - A Format', 'Hardback',\n",
       "       'Trade Paperback', 'Miniature Edition', 'Butchered Hardback', nan,\n",
       "       'Flexiback', 'Paperback With Flaps', 'Map'], dtype=object)"
      ]
     },
     "execution_count": 80,
     "metadata": {},
     "output_type": "execute_result"
    }
   ],
   "source": [
    "aa"
   ]
  },
  {
   "cell_type": "code",
   "execution_count": null,
   "metadata": {},
   "outputs": [],
   "source": []
  }
 ],
 "metadata": {
  "language_info": {
   "name": "python"
  }
 },
 "nbformat": 4,
 "nbformat_minor": 2
}
